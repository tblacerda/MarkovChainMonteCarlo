{
 "cells": [
  {
   "cell_type": "code",
   "execution_count": 152,
   "metadata": {},
   "outputs": [
    {
     "name": "stderr",
     "output_type": "stream",
     "text": [
      "C:\\Users\\F8058552\\AppData\\Roaming\\Python\\Python310\\site-packages\\openpyxl\\styles\\stylesheet.py:226: UserWarning: Workbook contains no default style, apply openpyxl's default\n",
      "  warn(\"Workbook contains no default style, apply openpyxl's default\")\n"
     ]
    }
   ],
   "source": [
    "import pandas as pd\n",
    "import pymc as pm\n",
    "import numpy as np\n",
    "import arviz as az\n",
    "import re\n",
    "# Carregar os dados\n",
    "data = pd.read_excel(r'DADOS BRUTOS\\ECQ_OUT_24.xlsx')\n",
    "data = data[['ANF','MUNICIPIO','ENDERECO_ID','TESTES_ECQ','ECQ']]\n",
    "data['TESTES_ECQ_OK'] = (data['TESTES_ECQ'] * data['ECQ']).round(0)\n",
    "data = data.drop(columns=['ECQ'])\n",
    "data = data[data['ANF'] == 83]\n",
    "# Agrupar por ANF e Município (DEFINA AQUI)\n",
    "grouped = data.groupby(['ANF', 'MUNICIPIO'])\n"
   ]
  },
  {
   "cell_type": "code",
   "execution_count": 153,
   "metadata": {},
   "outputs": [
    {
     "data": {
      "application/vnd.microsoft.datawrangler.viewer.v0+json": {
       "columns": [
        {
         "name": "index",
         "rawType": "int64",
         "type": "integer"
        },
        {
         "name": "ANF",
         "rawType": "float64",
         "type": "float"
        },
        {
         "name": "MUNICIPIO",
         "rawType": "object",
         "type": "string"
        },
        {
         "name": "ENDERECO_ID",
         "rawType": "object",
         "type": "string"
        },
        {
         "name": "TESTES_ECQ",
         "rawType": "float64",
         "type": "float"
        },
        {
         "name": "TESTES_ECQ_OK",
         "rawType": "float64",
         "type": "float"
        }
       ],
       "conversionMethod": "pd.DataFrame",
       "ref": "e99d29c2-73e5-4653-aff1-e4eb6aa9d3d1",
       "rows": [
        [
         "2287",
         "83.0",
         "ARACAGI",
         "PBAAG_0001",
         "13.0",
         "9.0"
        ],
        [
         "2288",
         "83.0",
         "ARARUNA",
         "PBAAN_0001",
         "57.0",
         "27.0"
        ],
        [
         "2289",
         "83.0",
         "AGUA BRANCA",
         "PBABW_0001",
         "28.0",
         "12.0"
        ],
        [
         "2290",
         "83.0",
         "AREIAL",
         "PBAEA_0001",
         "12.0",
         "10.0"
        ],
        [
         "2291",
         "83.0",
         "AREIA",
         "PBAEI_0001",
         "150.0",
         "80.0"
        ],
        [
         "2292",
         "83.0",
         "AROEIRAS",
         "PBAES_0001",
         "1.0",
         "0.0"
        ],
        [
         "2293",
         "83.0",
         "ALAGOA GRANDE",
         "PBAGG_0001",
         "21.0",
         "19.0"
        ],
        [
         "2294",
         "83.0",
         "ALAGOA NOVA",
         "PBAGO_0001",
         "12.0",
         "5.0"
        ],
        [
         "2295",
         "83.0",
         "AGUIAR",
         "PBAGY_0001",
         "31.0",
         "26.0"
        ],
        [
         "2296",
         "83.0",
         "ALAGOINHA",
         "PBAHA_0001",
         "12.0",
         "0.0"
        ],
        [
         "2297",
         "83.0",
         "ALHANDRA",
         "PBAHD_0002",
         "105.0",
         "66.0"
        ],
        [
         "2298",
         "83.0",
         "AMPARO",
         "PBAMPA0001",
         "27.0",
         "0.0"
        ],
        [
         "2299",
         "83.0",
         "APARECIDA",
         "PBAPAR0001",
         "3.0",
         "1.0"
        ],
        [
         "2300",
         "83.0",
         "AREIA DE BARAUNAS",
         "PBARBA0002",
         "5.0",
         "0.0"
        ],
        [
         "2301",
         "83.0",
         "ARARA",
         "PBARX_0001",
         "7.0",
         "4.0"
        ],
        [
         "2302",
         "83.0",
         "ASSUNCAO",
         "PBASSC0001",
         "26.0",
         "12.0"
        ],
        [
         "2303",
         "83.0",
         "BAIA DA TRAICAO",
         "PBBAI_0001",
         "46.0",
         "0.0"
        ],
        [
         "2304",
         "83.0",
         "BORBOREMA",
         "PBBBE_0001",
         "64.0",
         "45.0"
        ],
        [
         "2305",
         "83.0",
         "BELEM DO BREJO DO CRUZ",
         "PBBBZ_0001",
         "37.0",
         "26.0"
        ],
        [
         "2306",
         "83.0",
         "BELEM",
         "PBBEM_0001",
         "155.0",
         "88.0"
        ],
        [
         "2307",
         "83.0",
         "BELEM",
         "PBBEM_0002",
         "8.0",
         "0.0"
        ],
        [
         "2308",
         "83.0",
         "BARRA DE SANTA ROSA",
         "PBBEN_0001",
         "29.0",
         "17.0"
        ],
        [
         "2309",
         "83.0",
         "BOM JESUS",
         "PBBEU_0001",
         "29.0",
         "22.0"
        ],
        [
         "2310",
         "83.0",
         "BAYEUX",
         "PBBEX_0001",
         "220.0",
         "167.0"
        ],
        [
         "2311",
         "83.0",
         "BAYEUX",
         "PBBEX_0002",
         "135.0",
         "88.0"
        ],
        [
         "2312",
         "83.0",
         "BAYEUX",
         "PBBEX_0003",
         "19.0",
         "0.0"
        ],
        [
         "2313",
         "83.0",
         "BAYEUX",
         "PBBEX_0004",
         "5.0",
         "2.0"
        ],
        [
         "2314",
         "83.0",
         "BAYEUX",
         "PBBEX_0005",
         "3.0",
         "1.0"
        ],
        [
         "2315",
         "83.0",
         "BAYEUX",
         "PBBEX_0006",
         "69.0",
         "39.0"
        ],
        [
         "2316",
         "83.0",
         "BREJO DO CRUZ",
         "PBBJZ_0001",
         "27.0",
         "19.0"
        ],
        [
         "2317",
         "83.0",
         "BREJO DO CRUZ",
         "PBBJZ_0003",
         "4.0",
         "4.0"
        ],
        [
         "2318",
         "83.0",
         "BOM SUCESSO",
         "PBBMU_0001",
         "7.0",
         "4.0"
        ],
        [
         "2319",
         "83.0",
         "BERNARDINO BATISTA",
         "PBBNBT0001",
         "50.0",
         "35.0"
        ],
        [
         "2320",
         "83.0",
         "BANANEIRAS",
         "PBBNN_0001",
         "33.0",
         "25.0"
        ],
        [
         "2321",
         "83.0",
         "BREJO DOS SANTOS",
         "PBBOA_0001",
         "5.0",
         "0.0"
        ],
        [
         "2322",
         "83.0",
         "BOQUEIRAO",
         "PBBQO_0002",
         "36.0",
         "26.0"
        ],
        [
         "2323",
         "83.0",
         "BARRA DE SAO MIGUEL",
         "PBBRG_0001",
         "2.0",
         "0.0"
        ],
        [
         "2324",
         "83.0",
         "BARAUNA",
         "PBBRN_0002",
         "3.0",
         "0.0"
        ],
        [
         "2325",
         "83.0",
         "BARRA DE SANTANA",
         "PBBRSN0001",
         "12.0",
         "9.0"
        ],
        [
         "2326",
         "83.0",
         "BONITO DE SANTA FE",
         "PBBSF_0001",
         "66.0",
         "39.0"
        ],
        [
         "2327",
         "83.0",
         "BOA VENTURA",
         "PBBVE_0001",
         "7.0",
         "5.0"
        ],
        [
         "2328",
         "83.0",
         "BOA VISTA",
         "PBBVTA0001",
         "22.0",
         "17.0"
        ],
        [
         "2329",
         "83.0",
         "CAJAZEIRINHAS",
         "PBCAJA0005",
         "5.0",
         "4.0"
        ],
        [
         "2330",
         "83.0",
         "CATURITE",
         "PBCATR0001",
         "3.0",
         "0.0"
        ],
        [
         "2331",
         "83.0",
         "CABEDELO",
         "PBCBD_0001",
         "80.0",
         "59.0"
        ],
        [
         "2332",
         "83.0",
         "CABEDELO",
         "PBCBD_0002",
         "120.0",
         "96.0"
        ],
        [
         "2333",
         "83.0",
         "CABEDELO",
         "PBCBD_0003",
         "264.0",
         "226.0"
        ],
        [
         "2334",
         "83.0",
         "CABEDELO",
         "PBCBD_0004",
         "135.0",
         "118.0"
        ],
        [
         "2335",
         "83.0",
         "CABEDELO",
         "PBCBD_0005",
         "127.0",
         "84.0"
        ],
        [
         "2336",
         "83.0",
         "CABEDELO",
         "PBCBD_0006",
         "94.0",
         "82.0"
        ]
       ],
       "shape": {
        "columns": 5,
        "rows": 406
       }
      },
      "text/html": [
       "<div>\n",
       "<style scoped>\n",
       "    .dataframe tbody tr th:only-of-type {\n",
       "        vertical-align: middle;\n",
       "    }\n",
       "\n",
       "    .dataframe tbody tr th {\n",
       "        vertical-align: top;\n",
       "    }\n",
       "\n",
       "    .dataframe thead th {\n",
       "        text-align: right;\n",
       "    }\n",
       "</style>\n",
       "<table border=\"1\" class=\"dataframe\">\n",
       "  <thead>\n",
       "    <tr style=\"text-align: right;\">\n",
       "      <th></th>\n",
       "      <th>ANF</th>\n",
       "      <th>MUNICIPIO</th>\n",
       "      <th>ENDERECO_ID</th>\n",
       "      <th>TESTES_ECQ</th>\n",
       "      <th>TESTES_ECQ_OK</th>\n",
       "    </tr>\n",
       "  </thead>\n",
       "  <tbody>\n",
       "    <tr>\n",
       "      <th>2287</th>\n",
       "      <td>83.0</td>\n",
       "      <td>ARACAGI</td>\n",
       "      <td>PBAAG_0001</td>\n",
       "      <td>13.0</td>\n",
       "      <td>9.0</td>\n",
       "    </tr>\n",
       "    <tr>\n",
       "      <th>2288</th>\n",
       "      <td>83.0</td>\n",
       "      <td>ARARUNA</td>\n",
       "      <td>PBAAN_0001</td>\n",
       "      <td>57.0</td>\n",
       "      <td>27.0</td>\n",
       "    </tr>\n",
       "    <tr>\n",
       "      <th>2289</th>\n",
       "      <td>83.0</td>\n",
       "      <td>AGUA BRANCA</td>\n",
       "      <td>PBABW_0001</td>\n",
       "      <td>28.0</td>\n",
       "      <td>12.0</td>\n",
       "    </tr>\n",
       "    <tr>\n",
       "      <th>2290</th>\n",
       "      <td>83.0</td>\n",
       "      <td>AREIAL</td>\n",
       "      <td>PBAEA_0001</td>\n",
       "      <td>12.0</td>\n",
       "      <td>10.0</td>\n",
       "    </tr>\n",
       "    <tr>\n",
       "      <th>2291</th>\n",
       "      <td>83.0</td>\n",
       "      <td>AREIA</td>\n",
       "      <td>PBAEI_0001</td>\n",
       "      <td>150.0</td>\n",
       "      <td>80.0</td>\n",
       "    </tr>\n",
       "    <tr>\n",
       "      <th>...</th>\n",
       "      <td>...</td>\n",
       "      <td>...</td>\n",
       "      <td>...</td>\n",
       "      <td>...</td>\n",
       "      <td>...</td>\n",
       "    </tr>\n",
       "    <tr>\n",
       "      <th>2688</th>\n",
       "      <td>83.0</td>\n",
       "      <td>UIRAUNA</td>\n",
       "      <td>PBUIN_0001</td>\n",
       "      <td>82.0</td>\n",
       "      <td>37.0</td>\n",
       "    </tr>\n",
       "    <tr>\n",
       "      <th>2689</th>\n",
       "      <td>83.0</td>\n",
       "      <td>UMBUZEIRO</td>\n",
       "      <td>PBUUZ_0001</td>\n",
       "      <td>2.0</td>\n",
       "      <td>0.0</td>\n",
       "    </tr>\n",
       "    <tr>\n",
       "      <th>2690</th>\n",
       "      <td>83.0</td>\n",
       "      <td>VIEIROPOLIS</td>\n",
       "      <td>PBVIEI0001</td>\n",
       "      <td>9.0</td>\n",
       "      <td>0.0</td>\n",
       "    </tr>\n",
       "    <tr>\n",
       "      <th>2691</th>\n",
       "      <td>83.0</td>\n",
       "      <td>VARZEA</td>\n",
       "      <td>PBVRA_0001</td>\n",
       "      <td>15.0</td>\n",
       "      <td>0.0</td>\n",
       "    </tr>\n",
       "    <tr>\n",
       "      <th>2692</th>\n",
       "      <td>83.0</td>\n",
       "      <td>ZABELE</td>\n",
       "      <td>PBZABE0001</td>\n",
       "      <td>6.0</td>\n",
       "      <td>0.0</td>\n",
       "    </tr>\n",
       "  </tbody>\n",
       "</table>\n",
       "<p>406 rows × 5 columns</p>\n",
       "</div>"
      ],
      "text/plain": [
       "       ANF    MUNICIPIO ENDERECO_ID  TESTES_ECQ  TESTES_ECQ_OK\n",
       "2287  83.0      ARACAGI  PBAAG_0001        13.0            9.0\n",
       "2288  83.0      ARARUNA  PBAAN_0001        57.0           27.0\n",
       "2289  83.0  AGUA BRANCA  PBABW_0001        28.0           12.0\n",
       "2290  83.0       AREIAL  PBAEA_0001        12.0           10.0\n",
       "2291  83.0        AREIA  PBAEI_0001       150.0           80.0\n",
       "...    ...          ...         ...         ...            ...\n",
       "2688  83.0      UIRAUNA  PBUIN_0001        82.0           37.0\n",
       "2689  83.0    UMBUZEIRO  PBUUZ_0001         2.0            0.0\n",
       "2690  83.0  VIEIROPOLIS  PBVIEI0001         9.0            0.0\n",
       "2691  83.0       VARZEA  PBVRA_0001        15.0            0.0\n",
       "2692  83.0       ZABELE  PBZABE0001         6.0            0.0\n",
       "\n",
       "[406 rows x 5 columns]"
      ]
     },
     "execution_count": 153,
     "metadata": {},
     "output_type": "execute_result"
    }
   ],
   "source": [
    "data"
   ]
  },
  {
   "cell_type": "code",
   "execution_count": 154,
   "metadata": {},
   "outputs": [],
   "source": [
    "trace = az.from_netcdf(r\"modelos\\trace_ECQ_normal_pyMC_OUT24.nc\")"
   ]
  },
  {
   "cell_type": "code",
   "execution_count": 155,
   "metadata": {},
   "outputs": [
    {
     "name": "stdout",
     "output_type": "stream",
     "text": [
      "Group keys: dict_keys([(83.0, 'AGUA BRANCA'), (83.0, 'AGUIAR'), (83.0, 'ALAGOA GRANDE'), (83.0, 'ALAGOA NOVA'), (83.0, 'ALAGOINHA'), (83.0, 'ALHANDRA'), (83.0, 'AMPARO'), (83.0, 'APARECIDA'), (83.0, 'ARACAGI'), (83.0, 'ARARA'), (83.0, 'ARARUNA'), (83.0, 'AREIA'), (83.0, 'AREIA DE BARAUNAS'), (83.0, 'AREIAL'), (83.0, 'AROEIRAS'), (83.0, 'ASSUNCAO'), (83.0, 'BAIA DA TRAICAO'), (83.0, 'BANANEIRAS'), (83.0, 'BARAUNA'), (83.0, 'BARRA DE SANTA ROSA'), (83.0, 'BARRA DE SANTANA'), (83.0, 'BARRA DE SAO MIGUEL'), (83.0, 'BAYEUX'), (83.0, 'BELEM'), (83.0, 'BELEM DO BREJO DO CRUZ'), (83.0, 'BERNARDINO BATISTA'), (83.0, 'BOA VENTURA'), (83.0, 'BOA VISTA'), (83.0, 'BOM JESUS'), (83.0, 'BOM SUCESSO'), (83.0, 'BONITO DE SANTA FE'), (83.0, 'BOQUEIRAO'), (83.0, 'BORBOREMA'), (83.0, 'BREJO DO CRUZ'), (83.0, 'BREJO DOS SANTOS'), (83.0, 'CAAPORA'), (83.0, 'CABACEIRAS'), (83.0, 'CABEDELO'), (83.0, 'CACHOEIRA DOS INDIOS'), (83.0, 'CACIMBA DE AREIA'), (83.0, 'CACIMBA DE DENTRO'), (83.0, 'CACIMBAS'), (83.0, 'CAICARA'), (83.0, 'CAJAZEIRAS'), (83.0, 'CAJAZEIRINHAS'), (83.0, 'CALDAS BRANDAO'), (83.0, 'CAMALAU'), (83.0, 'CAMPINA GRANDE'), (83.0, 'CAPIM'), (83.0, 'CARRAPATEIRA'), (83.0, 'CASSERENGUE'), (83.0, 'CATINGUEIRA'), (83.0, 'CATOLE DO ROCHA'), (83.0, 'CATURITE'), (83.0, 'CONCEICAO'), (83.0, 'CONDADO'), (83.0, 'CONDE'), (83.0, 'CONGO'), (83.0, 'COREMAS'), (83.0, 'COXIXOLA'), (83.0, 'CRUZ DO ESPIRITO SANTO'), (83.0, 'CUITE'), (83.0, 'CUITE DE MAMANGUAPE'), (83.0, 'CUITEGI'), (83.0, 'CURRAL DE CIMA'), (83.0, 'CURRAL VELHO'), (83.0, 'DAMIAO'), (83.0, 'DESTERRO'), (83.0, 'DIAMANTE'), (83.0, 'DONA INES'), (83.0, 'DUAS ESTRADAS'), (83.0, 'EMAS'), (83.0, 'ESPERANCA'), (83.0, 'FAGUNDES'), (83.0, 'FREI MARTINHO'), (83.0, 'GADO BRAVO'), (83.0, 'GUARABIRA'), (83.0, 'GURINHEM'), (83.0, 'IBIARA'), (83.0, 'IGARACY'), (83.0, 'IMACULADA'), (83.0, 'INGA'), (83.0, 'ITABAIANA'), (83.0, 'ITAPORANGA'), (83.0, 'ITAPOROROCA'), (83.0, 'ITATUBA'), (83.0, 'JERICO'), (83.0, 'JOAO PESSOA'), (83.0, 'JOCA CLAUDINO'), (83.0, 'JUAREZ TAVORA'), (83.0, 'JUAZEIRINHO'), (83.0, 'JUNCO DO SERIDO'), (83.0, 'JURIPIRANGA'), (83.0, 'JURU'), (83.0, 'LAGOA'), (83.0, 'LAGOA DE DENTRO'), (83.0, 'LAGOA SECA'), (83.0, 'LIVRAMENTO'), (83.0, 'LOGRADOURO'), (83.0, 'LUCENA'), (83.0, 'MALTA'), (83.0, 'MAMANGUAPE'), (83.0, 'MANAIRA'), (83.0, 'MARCACAO'), (83.0, 'MARI'), (83.0, 'MASSARANDUBA'), (83.0, 'MATARACA'), (83.0, 'MATINHAS'), (83.0, 'MATO GROSSO'), (83.0, 'MATUREIA'), (83.0, 'MOGEIRO'), (83.0, 'MONTADAS'), (83.0, 'MONTE HOREBE'), (83.0, 'MONTEIRO'), (83.0, 'MULUNGU'), (83.0, 'NATUBA'), (83.0, 'NOVA FLORESTA'), (83.0, 'NOVA OLINDA'), (83.0, 'NOVA PALMEIRA'), (83.0, 'OLHO DAGUA'), (83.0, 'OLIVEDOS'), (83.0, 'OURO VELHO'), (83.0, 'PARARI'), (83.0, 'PASSAGEM'), (83.0, 'PATOS'), (83.0, 'PAULISTA'), (83.0, 'PEDRA BRANCA'), (83.0, 'PEDRA LAVRADA'), (83.0, 'PEDRAS DE FOGO'), (83.0, 'PIANCO'), (83.0, 'PICUI'), (83.0, 'PILAR'), (83.0, 'PILOES'), (83.0, 'PILOEZINHOS'), (83.0, 'PITIMBU'), (83.0, 'POCINHOS'), (83.0, 'POCO DANTAS'), (83.0, 'POCO DE JOSE DE MOURA'), (83.0, 'POMBAL'), (83.0, 'PRATA'), (83.0, 'PRINCESA ISABEL'), (83.0, 'PUXINANA'), (83.0, 'QUEIMADAS'), (83.0, 'QUIXABA'), (83.0, 'REMIGIO'), (83.0, 'RIACHAO'), (83.0, 'RIACHAO DO BACAMARTE'), (83.0, 'RIACHAO DO POCO'), (83.0, 'RIACHO DOS CAVALOS'), (83.0, 'RIO TINTO'), (83.0, 'SALGADINHO'), (83.0, 'SALGADO DE SAO FELIX'), (83.0, 'SANTA CECILIA DE UMBUZEIRO'), (83.0, 'SANTA CRUZ'), (83.0, 'SANTA HELENA'), (83.0, 'SANTA INES'), (83.0, 'SANTA LUZIA'), (83.0, 'SANTA RITA'), (83.0, 'SANTA TERESINHA'), (83.0, 'SANTANA DE MANGUEIRA'), (83.0, 'SANTANA DOS GARROTES'), (83.0, 'SANTO ANDRE'), (83.0, 'SAO BENTINHO'), (83.0, 'SAO BENTO'), (83.0, 'SAO DOMINGOS'), (83.0, 'SAO JOAO DO CARIRI'), (83.0, 'SAO JOAO DO RIO DO PEIXE'), (83.0, 'SAO JOAO DO TIGRE'), (83.0, 'SAO JOSE DA LAGOA TAPADA'), (83.0, 'SAO JOSE DE CAIANA'), (83.0, 'SAO JOSE DE ESPINHARAS'), (83.0, 'SAO JOSE DE PIRANHAS'), (83.0, 'SAO JOSE DE PRINCESA'), (83.0, 'SAO JOSE DO BONFIM'), (83.0, 'SAO JOSE DO BREJO DO CRUZ'), (83.0, 'SAO JOSE DO SABUGI'), (83.0, 'SAO JOSE DOS CORDEIROS'), (83.0, 'SAO JOSE DOS RAMOS'), (83.0, 'SAO MAMEDE'), (83.0, 'SAO MIGUEL DE TAIPU'), (83.0, 'SAO SEBASTIAO DE LAGOA DE ROCA'), (83.0, 'SAO SEBASTIAO DO UMBUZEIRO'), (83.0, 'SAPE'), (83.0, 'SERRA BRANCA'), (83.0, 'SERRA REDONDA'), (83.0, 'SERRARIA'), (83.0, 'SERTAOZINHO'), (83.0, 'SOBRADO'), (83.0, 'SOLANEA'), (83.0, 'SOLEDADE'), (83.0, 'SOSSEGO'), (83.0, 'SOUSA'), (83.0, 'SUME'), (83.0, 'TAPEROA'), (83.0, 'TAVARES'), (83.0, 'TEIXEIRA'), (83.0, 'TENORIO'), (83.0, 'TRIUNFO'), (83.0, 'UIRAUNA'), (83.0, 'UMBUZEIRO'), (83.0, 'VARZEA'), (83.0, 'VIEIROPOLIS'), (83.0, 'ZABELE')])\n"
     ]
    }
   ],
   "source": [
    "#print(\"Filtered data shape:\", data.shape)\n",
    "print(\"Group keys:\", grouped.groups.keys())\n",
    "#print(\"Trace variables:\", list(trace.posterior.data_vars))"
   ]
  },
  {
   "cell_type": "code",
   "execution_count": 156,
   "metadata": {},
   "outputs": [],
   "source": [
    "rows = []\n",
    "for (anf, municipio), group in grouped:\n",
    "\n",
    "    var_name = f\"theta_site_{anf}_{municipio}\"\n",
    "    #print(var_name)\n",
    "    if var_name in trace.posterior.data_vars:\n",
    "        # Obter amostras do theta_site (dimensão: chain, draw, site_idx)\n",
    "        theta_site_samples = trace.posterior[var_name]  # Formato (2, 2000, n_sites)\n",
    "        \n",
    "        # Extrair ENDERECO_IDs correspondentes aos índices dos sites\n",
    "        endereco_ids = group['ENDERECO_ID'].tolist()\n",
    "        \n",
    "        # Iterar sobre cada site (ENDERECO_ID)\n",
    "        for site_idx, endereco_id in enumerate(endereco_ids):\n",
    "            # Extrair amostras para o site específico\n",
    "            site_samples = theta_site_samples[:, :, site_idx].values.flatten()\n",
    "            \n",
    "            # Calcular estatísticas\n",
    "            mean = site_samples.mean()\n",
    "            std = site_samples.std()\n",
    "            hdi_3, hdi_97 = az.hdi(site_samples, hdi_prob=0.94)\n",
    "            \n",
    "            rows.append({\n",
    "                \"ANF\": anf,\n",
    "                \"MUNICIPIO\": municipio,\n",
    "                \"ENDERECO_ID\": endereco_id,\n",
    "                \"mean\": round(mean, 2),\n",
    "                \"stddev\": round(std , 2),\n",
    "                \"hdi_inf\": round(hdi_3 , 2),\n",
    "                \"hdi_sup\": round(hdi_97, 2)\n",
    "            })\n",
    "\n",
    "\n",
    "summary_df = pd.DataFrame(rows)"
   ]
  },
  {
   "cell_type": "code",
   "execution_count": 157,
   "metadata": {},
   "outputs": [
    {
     "data": {
      "application/vnd.microsoft.datawrangler.viewer.v0+json": {
       "columns": [
        {
         "name": "index",
         "rawType": "int64",
         "type": "integer"
        },
        {
         "name": "ANF",
         "rawType": "float64",
         "type": "float"
        },
        {
         "name": "MUNICIPIO",
         "rawType": "object",
         "type": "string"
        },
        {
         "name": "ENDERECO_ID",
         "rawType": "object",
         "type": "string"
        },
        {
         "name": "mean",
         "rawType": "float64",
         "type": "float"
        },
        {
         "name": "stddev",
         "rawType": "float64",
         "type": "float"
        },
        {
         "name": "hdi_inf",
         "rawType": "float64",
         "type": "float"
        },
        {
         "name": "hdi_sup",
         "rawType": "float64",
         "type": "float"
        }
       ],
       "conversionMethod": "pd.DataFrame",
       "ref": "1ccae717-766e-49c3-9d96-fbdbf49f6a1d",
       "rows": [
        [
         "0",
         "83.0",
         "AGUA BRANCA",
         "PBABW_0001",
         "0.43",
         "0.09",
         "0.26",
         "0.61"
        ],
        [
         "1",
         "83.0",
         "AGUIAR",
         "PBAGY_0001",
         "0.82",
         "0.07",
         "0.69",
         "0.94"
        ],
        [
         "2",
         "83.0",
         "ALAGOA GRANDE",
         "PBAGG_0001",
         "0.86",
         "0.08",
         "0.72",
         "0.99"
        ],
        [
         "3",
         "83.0",
         "ALAGOA NOVA",
         "PBAGO_0001",
         "0.42",
         "0.13",
         "0.2",
         "0.67"
        ],
        [
         "4",
         "83.0",
         "ALAGOINHA",
         "PBAHA_0001",
         "0.07",
         "0.07",
         "0.0",
         "0.19"
        ],
        [
         "5",
         "83.0",
         "ALHANDRA",
         "PBAHD_0002",
         "0.63",
         "0.05",
         "0.54",
         "0.71"
        ],
        [
         "6",
         "83.0",
         "AMPARO",
         "PBAMPA0001",
         "0.03",
         "0.03",
         "0.0",
         "0.09"
        ],
        [
         "7",
         "83.0",
         "APARECIDA",
         "PBAPAR0001",
         "0.4",
         "0.21",
         "0.06",
         "0.77"
        ],
        [
         "8",
         "83.0",
         "ARACAGI",
         "PBAAG_0001",
         "0.65",
         "0.11",
         "0.43",
         "0.85"
        ],
        [
         "9",
         "83.0",
         "ARARA",
         "PBARX_0001",
         "0.55",
         "0.15",
         "0.26",
         "0.81"
        ],
        [
         "10",
         "83.0",
         "ARARUNA",
         "PBAAN_0001",
         "0.48",
         "0.07",
         "0.37",
         "0.61"
        ],
        [
         "11",
         "83.0",
         "AREIA",
         "PBAEI_0001",
         "0.53",
         "0.04",
         "0.46",
         "0.61"
        ],
        [
         "12",
         "83.0",
         "AREIA DE BARAUNAS",
         "PBARBA0002",
         "0.14",
         "0.12",
         "0.0",
         "0.37"
        ],
        [
         "13",
         "83.0",
         "AREIAL",
         "PBAEA_0001",
         "0.77",
         "0.11",
         "0.57",
         "0.95"
        ],
        [
         "14",
         "83.0",
         "AROEIRAS",
         "PBAES_0001",
         "0.32",
         "0.22",
         "0.0",
         "0.69"
        ],
        [
         "15",
         "83.0",
         "ASSUNCAO",
         "PBASSC0001",
         "0.47",
         "0.09",
         "0.31",
         "0.64"
        ],
        [
         "16",
         "83.0",
         "BAIA DA TRAICAO",
         "PBBAI_0001",
         "0.01",
         "0.02",
         "0.0",
         "0.05"
        ],
        [
         "17",
         "83.0",
         "BANANEIRAS",
         "PBBNN_0001",
         "0.74",
         "0.07",
         "0.6",
         "0.86"
        ],
        [
         "18",
         "83.0",
         "BARAUNA",
         "PBBRN_0002",
         "0.18",
         "0.16",
         "0.0",
         "0.48"
        ],
        [
         "19",
         "83.0",
         "BARRA DE SANTA ROSA",
         "PBBEN_0001",
         "0.58",
         "0.09",
         "0.42",
         "0.75"
        ],
        [
         "20",
         "83.0",
         "BARRA DE SANTANA",
         "PBBRSN0001",
         "0.7",
         "0.12",
         "0.48",
         "0.92"
        ],
        [
         "21",
         "83.0",
         "BARRA DE SAO MIGUEL",
         "PBBRG_0001",
         "0.23",
         "0.18",
         "0.0",
         "0.57"
        ],
        [
         "22",
         "83.0",
         "BAYEUX",
         "PBBEX_0001",
         "0.75",
         "0.03",
         "0.69",
         "0.8"
        ],
        [
         "23",
         "83.0",
         "BAYEUX",
         "PBBEX_0002",
         "0.64",
         "0.04",
         "0.56",
         "0.71"
        ],
        [
         "24",
         "83.0",
         "BAYEUX",
         "PBBEX_0003",
         "0.19",
         "0.08",
         "0.06",
         "0.33"
        ],
        [
         "25",
         "83.0",
         "BAYEUX",
         "PBBEX_0004",
         "0.48",
         "0.13",
         "0.25",
         "0.72"
        ],
        [
         "26",
         "83.0",
         "BAYEUX",
         "PBBEX_0005",
         "0.47",
         "0.14",
         "0.2",
         "0.72"
        ],
        [
         "27",
         "83.0",
         "BAYEUX",
         "PBBEX_0006",
         "0.56",
         "0.06",
         "0.45",
         "0.66"
        ],
        [
         "28",
         "83.0",
         "BELEM",
         "PBBEM_0001",
         "0.56",
         "0.04",
         "0.48",
         "0.62"
        ],
        [
         "29",
         "83.0",
         "BELEM",
         "PBBEM_0002",
         "0.22",
         "0.11",
         "0.03",
         "0.43"
        ],
        [
         "30",
         "83.0",
         "BELEM DO BREJO DO CRUZ",
         "PBBBZ_0001",
         "0.68",
         "0.07",
         "0.55",
         "0.82"
        ],
        [
         "31",
         "83.0",
         "BERNARDINO BATISTA",
         "PBBNBT0001",
         "0.69",
         "0.07",
         "0.57",
         "0.81"
        ],
        [
         "32",
         "83.0",
         "BOA VENTURA",
         "PBBVE_0001",
         "0.66",
         "0.14",
         "0.4",
         "0.9"
        ],
        [
         "33",
         "83.0",
         "BOA VISTA",
         "PBBVTA0001",
         "0.75",
         "0.09",
         "0.59",
         "0.91"
        ],
        [
         "34",
         "83.0",
         "BOM JESUS",
         "PBBEU_0001",
         "0.74",
         "0.08",
         "0.59",
         "0.88"
        ],
        [
         "35",
         "83.0",
         "BOM SUCESSO",
         "PBBMU_0001",
         "0.55",
         "0.15",
         "0.28",
         "0.83"
        ],
        [
         "36",
         "83.0",
         "BONITO DE SANTA FE",
         "PBBSF_0001",
         "0.59",
         "0.06",
         "0.47",
         "0.68"
        ],
        [
         "37",
         "83.0",
         "BOQUEIRAO",
         "PBBQO_0002",
         "0.7",
         "0.07",
         "0.57",
         "0.84"
        ],
        [
         "38",
         "83.0",
         "BORBOREMA",
         "PBBBE_0001",
         "0.69",
         "0.06",
         "0.59",
         "0.81"
        ],
        [
         "39",
         "83.0",
         "BREJO DO CRUZ",
         "PBBJZ_0001",
         "0.71",
         "0.08",
         "0.56",
         "0.86"
        ],
        [
         "40",
         "83.0",
         "BREJO DO CRUZ",
         "PBBJZ_0003",
         "0.8",
         "0.13",
         "0.56",
         "1.0"
        ],
        [
         "41",
         "83.0",
         "BREJO DOS SANTOS",
         "PBBOA_0001",
         "0.15",
         "0.13",
         "0.0",
         "0.39"
        ],
        [
         "42",
         "83.0",
         "CAAPORA",
         "PBCPX_0001",
         "0.73",
         "0.09",
         "0.56",
         "0.89"
        ],
        [
         "43",
         "83.0",
         "CAAPORA",
         "PBCPX_0003",
         "0.76",
         "0.04",
         "0.69",
         "0.84"
        ],
        [
         "44",
         "83.0",
         "CABACEIRAS",
         "PBCCK_0001",
         "0.43",
         "0.17",
         "0.09",
         "0.7"
        ],
        [
         "45",
         "83.0",
         "CABEDELO",
         "PBCBD_0001",
         "0.74",
         "0.04",
         "0.65",
         "0.82"
        ],
        [
         "46",
         "83.0",
         "CABEDELO",
         "PBCBD_0002",
         "0.8",
         "0.04",
         "0.73",
         "0.86"
        ],
        [
         "47",
         "83.0",
         "CABEDELO",
         "PBCBD_0003",
         "0.85",
         "0.02",
         "0.81",
         "0.89"
        ],
        [
         "48",
         "83.0",
         "CABEDELO",
         "PBCBD_0004",
         "0.87",
         "0.03",
         "0.82",
         "0.93"
        ],
        [
         "49",
         "83.0",
         "CABEDELO",
         "PBCBD_0005",
         "0.67",
         "0.04",
         "0.59",
         "0.74"
        ]
       ],
       "shape": {
        "columns": 7,
        "rows": 406
       }
      },
      "text/html": [
       "<div>\n",
       "<style scoped>\n",
       "    .dataframe tbody tr th:only-of-type {\n",
       "        vertical-align: middle;\n",
       "    }\n",
       "\n",
       "    .dataframe tbody tr th {\n",
       "        vertical-align: top;\n",
       "    }\n",
       "\n",
       "    .dataframe thead th {\n",
       "        text-align: right;\n",
       "    }\n",
       "</style>\n",
       "<table border=\"1\" class=\"dataframe\">\n",
       "  <thead>\n",
       "    <tr style=\"text-align: right;\">\n",
       "      <th></th>\n",
       "      <th>ANF</th>\n",
       "      <th>MUNICIPIO</th>\n",
       "      <th>ENDERECO_ID</th>\n",
       "      <th>mean</th>\n",
       "      <th>stddev</th>\n",
       "      <th>hdi_inf</th>\n",
       "      <th>hdi_sup</th>\n",
       "    </tr>\n",
       "  </thead>\n",
       "  <tbody>\n",
       "    <tr>\n",
       "      <th>0</th>\n",
       "      <td>83.0</td>\n",
       "      <td>AGUA BRANCA</td>\n",
       "      <td>PBABW_0001</td>\n",
       "      <td>0.43</td>\n",
       "      <td>0.09</td>\n",
       "      <td>0.26</td>\n",
       "      <td>0.61</td>\n",
       "    </tr>\n",
       "    <tr>\n",
       "      <th>1</th>\n",
       "      <td>83.0</td>\n",
       "      <td>AGUIAR</td>\n",
       "      <td>PBAGY_0001</td>\n",
       "      <td>0.82</td>\n",
       "      <td>0.07</td>\n",
       "      <td>0.69</td>\n",
       "      <td>0.94</td>\n",
       "    </tr>\n",
       "    <tr>\n",
       "      <th>2</th>\n",
       "      <td>83.0</td>\n",
       "      <td>ALAGOA GRANDE</td>\n",
       "      <td>PBAGG_0001</td>\n",
       "      <td>0.86</td>\n",
       "      <td>0.08</td>\n",
       "      <td>0.72</td>\n",
       "      <td>0.99</td>\n",
       "    </tr>\n",
       "    <tr>\n",
       "      <th>3</th>\n",
       "      <td>83.0</td>\n",
       "      <td>ALAGOA NOVA</td>\n",
       "      <td>PBAGO_0001</td>\n",
       "      <td>0.42</td>\n",
       "      <td>0.13</td>\n",
       "      <td>0.20</td>\n",
       "      <td>0.67</td>\n",
       "    </tr>\n",
       "    <tr>\n",
       "      <th>4</th>\n",
       "      <td>83.0</td>\n",
       "      <td>ALAGOINHA</td>\n",
       "      <td>PBAHA_0001</td>\n",
       "      <td>0.07</td>\n",
       "      <td>0.07</td>\n",
       "      <td>0.00</td>\n",
       "      <td>0.19</td>\n",
       "    </tr>\n",
       "    <tr>\n",
       "      <th>...</th>\n",
       "      <td>...</td>\n",
       "      <td>...</td>\n",
       "      <td>...</td>\n",
       "      <td>...</td>\n",
       "      <td>...</td>\n",
       "      <td>...</td>\n",
       "      <td>...</td>\n",
       "    </tr>\n",
       "    <tr>\n",
       "      <th>401</th>\n",
       "      <td>83.0</td>\n",
       "      <td>UIRAUNA</td>\n",
       "      <td>PBUIN_0001</td>\n",
       "      <td>0.45</td>\n",
       "      <td>0.05</td>\n",
       "      <td>0.35</td>\n",
       "      <td>0.55</td>\n",
       "    </tr>\n",
       "    <tr>\n",
       "      <th>402</th>\n",
       "      <td>83.0</td>\n",
       "      <td>UMBUZEIRO</td>\n",
       "      <td>PBUUZ_0001</td>\n",
       "      <td>0.25</td>\n",
       "      <td>0.19</td>\n",
       "      <td>0.00</td>\n",
       "      <td>0.59</td>\n",
       "    </tr>\n",
       "    <tr>\n",
       "      <th>403</th>\n",
       "      <td>83.0</td>\n",
       "      <td>VARZEA</td>\n",
       "      <td>PBVRA_0001</td>\n",
       "      <td>0.05</td>\n",
       "      <td>0.06</td>\n",
       "      <td>0.00</td>\n",
       "      <td>0.15</td>\n",
       "    </tr>\n",
       "    <tr>\n",
       "      <th>404</th>\n",
       "      <td>83.0</td>\n",
       "      <td>VIEIROPOLIS</td>\n",
       "      <td>PBVIEI0001</td>\n",
       "      <td>0.08</td>\n",
       "      <td>0.08</td>\n",
       "      <td>0.00</td>\n",
       "      <td>0.24</td>\n",
       "    </tr>\n",
       "    <tr>\n",
       "      <th>405</th>\n",
       "      <td>83.0</td>\n",
       "      <td>ZABELE</td>\n",
       "      <td>PBZABE0001</td>\n",
       "      <td>0.12</td>\n",
       "      <td>0.11</td>\n",
       "      <td>0.00</td>\n",
       "      <td>0.33</td>\n",
       "    </tr>\n",
       "  </tbody>\n",
       "</table>\n",
       "<p>406 rows × 7 columns</p>\n",
       "</div>"
      ],
      "text/plain": [
       "      ANF      MUNICIPIO ENDERECO_ID  mean  stddev  hdi_inf  hdi_sup\n",
       "0    83.0    AGUA BRANCA  PBABW_0001  0.43    0.09     0.26     0.61\n",
       "1    83.0         AGUIAR  PBAGY_0001  0.82    0.07     0.69     0.94\n",
       "2    83.0  ALAGOA GRANDE  PBAGG_0001  0.86    0.08     0.72     0.99\n",
       "3    83.0    ALAGOA NOVA  PBAGO_0001  0.42    0.13     0.20     0.67\n",
       "4    83.0      ALAGOINHA  PBAHA_0001  0.07    0.07     0.00     0.19\n",
       "..    ...            ...         ...   ...     ...      ...      ...\n",
       "401  83.0        UIRAUNA  PBUIN_0001  0.45    0.05     0.35     0.55\n",
       "402  83.0      UMBUZEIRO  PBUUZ_0001  0.25    0.19     0.00     0.59\n",
       "403  83.0         VARZEA  PBVRA_0001  0.05    0.06     0.00     0.15\n",
       "404  83.0    VIEIROPOLIS  PBVIEI0001  0.08    0.08     0.00     0.24\n",
       "405  83.0         ZABELE  PBZABE0001  0.12    0.11     0.00     0.33\n",
       "\n",
       "[406 rows x 7 columns]"
      ]
     },
     "execution_count": 157,
     "metadata": {},
     "output_type": "execute_result"
    }
   ],
   "source": [
    "summary_df"
   ]
  },
  {
   "cell_type": "markdown",
   "metadata": {},
   "source": [
    "1. impacto_acumulado (Impacto Acumulado)\n",
    "O que é: Soma cumulativa da métrica de impacto (impacto) dos sites, ordenados do maior para o menor impacto (priorizando os piores sites).\n",
    "\n",
    "Interpretação:\n",
    "\"Se corrigirmos os primeiros N sites desta lista, qual é o impacto total esperado na melhoria do ECQ do município?\"\n",
    "\n",
    "impacto_acumulado = sum(impacto_dos_sites_priorizados)\n",
    "\n",
    "2. ganho_potencial_ecq (Ganho Potencial de ECQ)\n",
    "O que é: Representa quanto o ECQ médio do município poderia aumentar se os sites prioritários fossem corrigidos, expresso como uma proporção do ECQ atual.\n",
    "\n",
    "Interpretação:\n",
    "\"Se corrigirmos os primeiros N sites, qual é o aumento percentual esperado no ECQ médio do município?\"\n",
    "\n",
    "ganho_potencial_ecq = impacto_acumulado / mean_municipio"
   ]
  },
  {
   "cell_type": "code",
   "execution_count": 158,
   "metadata": {},
   "outputs": [],
   "source": [
    "# 3. Extrair estatísticas dos sites\n",
    "rows = []\n",
    "for (anf, municipio), group in grouped:\n",
    "    var_name = f\"theta_site_{anf}_{municipio}\"\n",
    "    if var_name in trace.posterior.data_vars:\n",
    "        theta_site_samples = trace.posterior[var_name]\n",
    "        endereco_ids = group['ENDERECO_ID'].tolist()\n",
    "        \n",
    "        for site_idx, endereco_id in enumerate(endereco_ids):\n",
    "            samples = theta_site_samples[..., site_idx].values.flatten()\n",
    "            \n",
    "            rows.append({\n",
    "                \"ANF\": anf,\n",
    "                \"MUNICIPIO\": municipio,\n",
    "                \"ENDERECO_ID\": endereco_id,\n",
    "                \"mean_site\": samples.mean(),\n",
    "                \"stddev_site\": samples.std(),\n",
    "                \"hdi_inf\": az.hdi(samples, hdi_prob=0.95)[0],\n",
    "                \"hdi_sup\": az.hdi(samples, hdi_prob=0.95)[1]\n",
    "            })\n",
    "\n",
    "summary_df = pd.DataFrame(rows)\n",
    "\n",
    "# 4. Extrair ECQ dos municípios (mu_municipio)\n",
    "municipio_rows = []\n",
    "for (anf, municipio) in grouped.groups.keys():\n",
    "    var_name = f\"mu_municipio_{anf}_{municipio}\"\n",
    "    if var_name in trace.posterior.data_vars:\n",
    "        samples = trace.posterior[var_name].values.flatten()\n",
    "        municipio_rows.append({\n",
    "            \"ANF\": anf,\n",
    "            \"MUNICIPIO\": municipio,\n",
    "            \"mean_municipio\": samples.mean(),\n",
    "            \"stddev_municipio\": samples.std(),\n",
    "            \"hdi_inf_Mun\": az.hdi(samples, hdi_prob=0.95)[0],\n",
    "            \"hdi_sup_Mun\": az.hdi(samples, hdi_prob=0.95)[1]\n",
    "        })\n",
    "\n",
    "municipio_stats = pd.DataFrame(municipio_rows)"
   ]
  },
  {
   "cell_type": "code",
   "execution_count": 159,
   "metadata": {},
   "outputs": [
    {
     "data": {
      "application/vnd.microsoft.datawrangler.viewer.v0+json": {
       "columns": [
        {
         "name": "index",
         "rawType": "int64",
         "type": "integer"
        },
        {
         "name": "ANF",
         "rawType": "float64",
         "type": "float"
        },
        {
         "name": "MUNICIPIO",
         "rawType": "object",
         "type": "string"
        },
        {
         "name": "mean_municipio",
         "rawType": "float64",
         "type": "float"
        },
        {
         "name": "stddev_municipio",
         "rawType": "float64",
         "type": "float"
        },
        {
         "name": "hdi_inf_Mun",
         "rawType": "float64",
         "type": "float"
        },
        {
         "name": "hdi_sup_Mun",
         "rawType": "float64",
         "type": "float"
        }
       ],
       "conversionMethod": "pd.DataFrame",
       "ref": "0e3c66cf-a69e-4c0d-b1fe-96c3d8565c90",
       "rows": [
        [
         "0",
         "83.0",
         "AGUA BRANCA",
         "0.43680512977481945",
         "0.14046444005798406",
         "0.1535643289310128",
         "0.6854854785917106"
        ],
        [
         "1",
         "83.0",
         "AGUIAR",
         "0.7540257155047123",
         "0.11548653762727702",
         "0.5380055712133445",
         "0.9761607208091598"
        ],
        [
         "2",
         "83.0",
         "ALAGOA GRANDE",
         "0.7990395485098485",
         "0.11193460789902257",
         "0.59135596600119",
         "0.9840823786768486"
        ],
        [
         "3",
         "83.0",
         "ALAGOA NOVA",
         "0.43249182854079915",
         "0.15555694122250543",
         "0.13305320712662755",
         "0.7382749224155231"
        ],
        [
         "4",
         "83.0",
         "ALAGOINHA",
         "0.13023788283396687",
         "0.09906448900977728",
         "0.0002879912676618023",
         "0.32285284361124883"
        ],
        [
         "5",
         "83.0",
         "ALHANDRA",
         "0.5947431123760979",
         "0.1258477424109452",
         "0.34760436316679527",
         "0.8379155374670939"
        ],
        [
         "6",
         "83.0",
         "AMPARO",
         "0.08695667922196025",
         "0.07215087949246907",
         "0.0012332890385305503",
         "0.23488348715504806"
        ],
        [
         "7",
         "83.0",
         "APARECIDA",
         "0.4165152921346814",
         "0.20402046039889032",
         "0.06577971126683523",
         "0.8160576220707405"
        ],
        [
         "8",
         "83.0",
         "ARACAGI",
         "0.6219325933552345",
         "0.14498186177878442",
         "0.33413177822631496",
         "0.8886220334083894"
        ],
        [
         "9",
         "83.0",
         "ARARA",
         "0.5378053589337415",
         "0.1754060547916779",
         "0.1997820692172312",
         "0.8574858308852"
        ],
        [
         "10",
         "83.0",
         "ARARUNA",
         "0.48602211407166634",
         "0.1395219630297879",
         "0.22654060648732252",
         "0.762542839406527"
        ],
        [
         "11",
         "83.0",
         "AREIA",
         "0.523193490956643",
         "0.12296612152527182",
         "0.2956032492861578",
         "0.7738990769281465"
        ],
        [
         "12",
         "83.0",
         "AREIA DE BARAUNAS",
         "0.20134127663050105",
         "0.14145884704156908",
         "0.0008195431313903336",
         "0.4813597858454133"
        ],
        [
         "13",
         "83.0",
         "AREIAL",
         "0.7081862152553087",
         "0.13907326259900463",
         "0.43142956398950133",
         "0.9548165624072728"
        ],
        [
         "14",
         "83.0",
         "AROEIRAS",
         "0.3477263844972332",
         "0.20488548188520941",
         "0.0063121805548452415",
         "0.7141750003226826"
        ],
        [
         "15",
         "83.0",
         "ASSUNCAO",
         "0.470489146281868",
         "0.13422426283761713",
         "0.20688951873393455",
         "0.7285721939092124"
        ],
        [
         "16",
         "83.0",
         "BAIA DA TRAICAO",
         "0.0661701851268477",
         "0.0519390458252274",
         "0.00021497693703149842",
         "0.16812377412621657"
        ],
        [
         "17",
         "83.0",
         "BANANEIRAS",
         "0.6734234881680369",
         "0.12828713215850251",
         "0.42425240372050654",
         "0.919429952968404"
        ],
        [
         "18",
         "83.0",
         "BARAUNA",
         "0.23285330571330945",
         "0.17108976547687166",
         "0.0007432605961763346",
         "0.5797769545264088"
        ],
        [
         "19",
         "83.0",
         "BARRA DE SANTA ROSA",
         "0.5581002732762095",
         "0.1406061479288679",
         "0.27665102183676543",
         "0.8263602676314115"
        ],
        [
         "20",
         "83.0",
         "BARRA DE SANTANA",
         "0.6526295747536814",
         "0.15429547251430473",
         "0.3447694006463774",
         "0.9279426830669291"
        ],
        [
         "21",
         "83.0",
         "BARRA DE SAO MIGUEL",
         "0.27133005353059614",
         "0.18268925576913225",
         "0.009164297992932634",
         "0.6254349977445834"
        ],
        [
         "22",
         "83.0",
         "BAYEUX",
         "0.5045009504715627",
         "0.07338965964744767",
         "0.3525920642213122",
         "0.6373236449769258"
        ],
        [
         "23",
         "83.0",
         "BELEM",
         "0.3766799701253983",
         "0.11729132807088283",
         "0.15213265260475836",
         "0.6065335543996844"
        ],
        [
         "24",
         "83.0",
         "BELEM DO BREJO DO CRUZ",
         "0.63741112629913",
         "0.13401926540607345",
         "0.37048693979186065",
         "0.8966811090341401"
        ],
        [
         "25",
         "83.0",
         "BERNARDINO BATISTA",
         "0.6445714911128476",
         "0.14284520231238315",
         "0.3860072849101672",
         "0.9001338832531088"
        ],
        [
         "26",
         "83.0",
         "BOA VENTURA",
         "0.6234347393278136",
         "0.15782668184801318",
         "0.32146224791592937",
         "0.9284585908270062"
        ],
        [
         "27",
         "83.0",
         "BOA VISTA",
         "0.6941976117639436",
         "0.14208389478310218",
         "0.4094375526456087",
         "0.936638670868195"
        ],
        [
         "28",
         "83.0",
         "BOM JESUS",
         "0.6860650815065098",
         "0.13541067871776485",
         "0.41659785296180785",
         "0.9201532496205341"
        ],
        [
         "29",
         "83.0",
         "BOM SUCESSO",
         "0.5337676878152654",
         "0.17054790875059994",
         "0.20478146919378012",
         "0.8546180711766667"
        ],
        [
         "30",
         "83.0",
         "BONITO DE SANTA FE",
         "0.5734172920041545",
         "0.13041623692044166",
         "0.30966230767038655",
         "0.8211848004792854"
        ],
        [
         "31",
         "83.0",
         "BOQUEIRAO",
         "0.6517548629862122",
         "0.1305661723503284",
         "0.40286054071861316",
         "0.9052543080277293"
        ],
        [
         "32",
         "83.0",
         "BORBOREMA",
         "0.6481425850044762",
         "0.12150127423684895",
         "0.4215668343404168",
         "0.8940656860810606"
        ],
        [
         "33",
         "83.0",
         "BREJO DO CRUZ",
         "0.7305481849692019",
         "0.11959348892704205",
         "0.49868982319882915",
         "0.9441606032451957"
        ],
        [
         "34",
         "83.0",
         "BREJO DOS SANTOS",
         "0.21181727487534205",
         "0.1449111814180311",
         "0.0002661908024484831",
         "0.4989015680122708"
        ],
        [
         "35",
         "83.0",
         "CAAPORA",
         "0.7147485232060017",
         "0.10047080293461401",
         "0.5152773153257139",
         "0.8932534723390375"
        ],
        [
         "36",
         "83.0",
         "CABACEIRAS",
         "0.440973262243813",
         "0.1810105824846102",
         "0.07984013900397832",
         "0.7560048614243849"
        ],
        [
         "37",
         "83.0",
         "CABEDELO",
         "0.7569196272536087",
         "0.038787523698983174",
         "0.6807184178653273",
         "0.829622828930674"
        ],
        [
         "38",
         "83.0",
         "CACHOEIRA DOS INDIOS",
         "0.5578982606506647",
         "0.130717558597054",
         "0.3011795401017996",
         "0.8065187731833271"
        ],
        [
         "39",
         "83.0",
         "CACIMBA DE AREIA",
         "0.6774629824041667",
         "0.13719773594118687",
         "0.40320633250627547",
         "0.9306639273218605"
        ],
        [
         "40",
         "83.0",
         "CACIMBA DE DENTRO",
         "0.45439449066036325",
         "0.14870066833128526",
         "0.16083536689341277",
         "0.7277473584220073"
        ],
        [
         "41",
         "83.0",
         "CACIMBAS",
         "0.7148366354977201",
         "0.13176858782345616",
         "0.4616369214695572",
         "0.9438324177640343"
        ],
        [
         "42",
         "83.0",
         "CAICARA",
         "0.23778283971229808",
         "0.17045629996515788",
         "0.0028242228800109503",
         "0.5617808397649733"
        ],
        [
         "43",
         "83.0",
         "CAJAZEIRAS",
         "0.5083105052705033",
         "0.08749904027310856",
         "0.3307442432404216",
         "0.6776665945477999"
        ],
        [
         "44",
         "83.0",
         "CAJAZEIRINHAS",
         "0.6644695973388483",
         "0.16232979157741986",
         "0.36024231856049277",
         "0.9467000045294911"
        ],
        [
         "45",
         "83.0",
         "CALDAS BRANDAO",
         "0.6687211946302873",
         "0.12655650909102428",
         "0.42096512157244625",
         "0.8972875482995168"
        ],
        [
         "46",
         "83.0",
         "CAMALAU",
         "0.7080723823533729",
         "0.11918610253957658",
         "0.4853338371012076",
         "0.9226417259900592"
        ],
        [
         "47",
         "83.0",
         "CAMPINA GRANDE",
         "0.6586875424796013",
         "0.027189141614462342",
         "0.6093037784789315",
         "0.7148535696796018"
        ],
        [
         "48",
         "83.0",
         "CAPIM",
         "0.6759111152031657",
         "0.20025086014113352",
         "0.3102863059251545",
         "0.9960838500581329"
        ],
        [
         "49",
         "83.0",
         "CARRAPATEIRA",
         "0.19362312653865046",
         "0.13412161877718015",
         "0.005967171741447033",
         "0.4548485385455121"
        ]
       ],
       "shape": {
        "columns": 6,
        "rows": 203
       }
      },
      "text/html": [
       "<div>\n",
       "<style scoped>\n",
       "    .dataframe tbody tr th:only-of-type {\n",
       "        vertical-align: middle;\n",
       "    }\n",
       "\n",
       "    .dataframe tbody tr th {\n",
       "        vertical-align: top;\n",
       "    }\n",
       "\n",
       "    .dataframe thead th {\n",
       "        text-align: right;\n",
       "    }\n",
       "</style>\n",
       "<table border=\"1\" class=\"dataframe\">\n",
       "  <thead>\n",
       "    <tr style=\"text-align: right;\">\n",
       "      <th></th>\n",
       "      <th>ANF</th>\n",
       "      <th>MUNICIPIO</th>\n",
       "      <th>mean_municipio</th>\n",
       "      <th>stddev_municipio</th>\n",
       "      <th>hdi_inf_Mun</th>\n",
       "      <th>hdi_sup_Mun</th>\n",
       "    </tr>\n",
       "  </thead>\n",
       "  <tbody>\n",
       "    <tr>\n",
       "      <th>0</th>\n",
       "      <td>83.0</td>\n",
       "      <td>AGUA BRANCA</td>\n",
       "      <td>0.436805</td>\n",
       "      <td>0.140464</td>\n",
       "      <td>0.153564</td>\n",
       "      <td>0.685485</td>\n",
       "    </tr>\n",
       "    <tr>\n",
       "      <th>1</th>\n",
       "      <td>83.0</td>\n",
       "      <td>AGUIAR</td>\n",
       "      <td>0.754026</td>\n",
       "      <td>0.115487</td>\n",
       "      <td>0.538006</td>\n",
       "      <td>0.976161</td>\n",
       "    </tr>\n",
       "    <tr>\n",
       "      <th>2</th>\n",
       "      <td>83.0</td>\n",
       "      <td>ALAGOA GRANDE</td>\n",
       "      <td>0.799040</td>\n",
       "      <td>0.111935</td>\n",
       "      <td>0.591356</td>\n",
       "      <td>0.984082</td>\n",
       "    </tr>\n",
       "    <tr>\n",
       "      <th>3</th>\n",
       "      <td>83.0</td>\n",
       "      <td>ALAGOA NOVA</td>\n",
       "      <td>0.432492</td>\n",
       "      <td>0.155557</td>\n",
       "      <td>0.133053</td>\n",
       "      <td>0.738275</td>\n",
       "    </tr>\n",
       "    <tr>\n",
       "      <th>4</th>\n",
       "      <td>83.0</td>\n",
       "      <td>ALAGOINHA</td>\n",
       "      <td>0.130238</td>\n",
       "      <td>0.099064</td>\n",
       "      <td>0.000288</td>\n",
       "      <td>0.322853</td>\n",
       "    </tr>\n",
       "    <tr>\n",
       "      <th>...</th>\n",
       "      <td>...</td>\n",
       "      <td>...</td>\n",
       "      <td>...</td>\n",
       "      <td>...</td>\n",
       "      <td>...</td>\n",
       "      <td>...</td>\n",
       "    </tr>\n",
       "    <tr>\n",
       "      <th>198</th>\n",
       "      <td>83.0</td>\n",
       "      <td>UIRAUNA</td>\n",
       "      <td>0.463646</td>\n",
       "      <td>0.129571</td>\n",
       "      <td>0.206812</td>\n",
       "      <td>0.714660</td>\n",
       "    </tr>\n",
       "    <tr>\n",
       "      <th>199</th>\n",
       "      <td>83.0</td>\n",
       "      <td>UMBUZEIRO</td>\n",
       "      <td>0.291857</td>\n",
       "      <td>0.187454</td>\n",
       "      <td>0.004808</td>\n",
       "      <td>0.649253</td>\n",
       "    </tr>\n",
       "    <tr>\n",
       "      <th>200</th>\n",
       "      <td>83.0</td>\n",
       "      <td>VARZEA</td>\n",
       "      <td>0.111111</td>\n",
       "      <td>0.088370</td>\n",
       "      <td>0.001384</td>\n",
       "      <td>0.278088</td>\n",
       "    </tr>\n",
       "    <tr>\n",
       "      <th>201</th>\n",
       "      <td>83.0</td>\n",
       "      <td>VIEIROPOLIS</td>\n",
       "      <td>0.145386</td>\n",
       "      <td>0.113997</td>\n",
       "      <td>0.001151</td>\n",
       "      <td>0.369241</td>\n",
       "    </tr>\n",
       "    <tr>\n",
       "      <th>202</th>\n",
       "      <td>83.0</td>\n",
       "      <td>ZABELE</td>\n",
       "      <td>0.176687</td>\n",
       "      <td>0.126957</td>\n",
       "      <td>0.001007</td>\n",
       "      <td>0.422574</td>\n",
       "    </tr>\n",
       "  </tbody>\n",
       "</table>\n",
       "<p>203 rows × 6 columns</p>\n",
       "</div>"
      ],
      "text/plain": [
       "      ANF      MUNICIPIO  mean_municipio  stddev_municipio  hdi_inf_Mun  \\\n",
       "0    83.0    AGUA BRANCA        0.436805          0.140464     0.153564   \n",
       "1    83.0         AGUIAR        0.754026          0.115487     0.538006   \n",
       "2    83.0  ALAGOA GRANDE        0.799040          0.111935     0.591356   \n",
       "3    83.0    ALAGOA NOVA        0.432492          0.155557     0.133053   \n",
       "4    83.0      ALAGOINHA        0.130238          0.099064     0.000288   \n",
       "..    ...            ...             ...               ...          ...   \n",
       "198  83.0        UIRAUNA        0.463646          0.129571     0.206812   \n",
       "199  83.0      UMBUZEIRO        0.291857          0.187454     0.004808   \n",
       "200  83.0         VARZEA        0.111111          0.088370     0.001384   \n",
       "201  83.0    VIEIROPOLIS        0.145386          0.113997     0.001151   \n",
       "202  83.0         ZABELE        0.176687          0.126957     0.001007   \n",
       "\n",
       "     hdi_sup_Mun  \n",
       "0       0.685485  \n",
       "1       0.976161  \n",
       "2       0.984082  \n",
       "3       0.738275  \n",
       "4       0.322853  \n",
       "..           ...  \n",
       "198     0.714660  \n",
       "199     0.649253  \n",
       "200     0.278088  \n",
       "201     0.369241  \n",
       "202     0.422574  \n",
       "\n",
       "[203 rows x 6 columns]"
      ]
     },
     "execution_count": 159,
     "metadata": {},
     "output_type": "execute_result"
    }
   ],
   "source": [
    "municipio_stats"
   ]
  },
  {
   "cell_type": "code",
   "execution_count": 160,
   "metadata": {},
   "outputs": [],
   "source": [
    "# ========================================================\n",
    "# 5. Juntar todos os dados e calcular FALHAS_ECQ (CORRIGIDO)\n",
    "# ========================================================\n",
    "merged_df = pd.merge(\n",
    "    summary_df,\n",
    "    data[['ANF', 'MUNICIPIO', 'ENDERECO_ID', 'TESTES_ECQ', 'TESTES_ECQ_OK']],\n",
    "    on=['ANF', 'MUNICIPIO', 'ENDERECO_ID'],\n",
    "    how='inner'\n",
    ")\n",
    "\n",
    "# Adicionar mean_municipio do municipio_stats\n",
    "merged_df = pd.merge(\n",
    "    merged_df,\n",
    "    municipio_stats[['ANF', 'MUNICIPIO', 'mean_municipio', 'hdi_inf_Mun', 'hdi_sup_Mun']],  # <--- Adicione esta linha\n",
    "    on=['ANF', 'MUNICIPIO'],\n",
    "    how='left'\n",
    ")\n",
    "\n",
    "# Calcular FALHAS_ECQ\n",
    "merged_df['FALHAS_ECQ'] = merged_df['TESTES_ECQ'] - merged_df['TESTES_ECQ_OK']\n",
    "\n",
    "# 6. Calcular métricas de impacto REVISADAS\n",
    "# Normalizar falhas por município (0 a 1)\n",
    "merged_df['FALHAS_ECQ_norm'] = merged_df.groupby(['ANF', 'MUNICIPIO'])['FALHAS_ECQ'].transform(\n",
    "    lambda x: (x - x.min()) / (x.max() - x.min() + 1e-8)\n",
    ")\n",
    "\n",
    "# Nova métrica de impacto: potencial de ganho proporcional às falhas\n",
    "merged_df['impacto'] = (\n",
    "    (1 - merged_df['mean_site']) *  # Potencial máximo de melhoria (0 a 1)\n",
    "    merged_df['FALHAS_ECQ_norm']    # Peso pelo volume de falhas normalizado\n",
    ")\n"
   ]
  },
  {
   "cell_type": "code",
   "execution_count": 161,
   "metadata": {},
   "outputs": [],
   "source": [
    "\n",
    "# 7. Calcular total de testes por município\n",
    "merged_df['total_testes_municipio'] = merged_df.groupby(\n",
    "    ['ANF', 'MUNICIPIO']\n",
    ")['TESTES_ECQ'].transform('sum')\n",
    "\n",
    "# 8. Ordenar e acumular impacto\n",
    "merged_df['rank'] = merged_df.groupby(['ANF', 'MUNICIPIO'])['impacto'].rank(\n",
    "    ascending=False, method='first'\n",
    ")\n",
    "\n",
    "# merged_df['impacto_acumulado'] = merged_df.groupby(\n",
    "#     ['ANF', 'MUNICIPIO']\n",
    "# )['impacto'].transform(lambda x: x.sort_values(ascending=False).cumsum())\n",
    "# Nova fórmula: Ganho potencial por site (não acumulado)\n",
    "# merged_df['ganho_potencial_ecq'] = (\n",
    "#     (1 - merged_df['mean_site']).clip(lower=0) *  # Evita valores negativos\n",
    "#     merged_df['FALHAS_ECQ'] / \n",
    "#     merged_df['total_testes_municipio'] \n",
    "# ) * 100\n",
    "\n",
    "# Impacto = falhas brutas\n",
    "merged_df['incECQ'] = merged_df['FALHAS_ECQ'] / merged_df['total_testes_municipio']\n",
    "\n",
    "\n",
    "merged_df['rank'] = merged_df.groupby(['ANF', 'MUNICIPIO'])['incECQ'].rank(\n",
    "    ascending=False, method='first'\n",
    ")"
   ]
  },
  {
   "cell_type": "code",
   "execution_count": 162,
   "metadata": {},
   "outputs": [],
   "source": [
    "\n",
    "# ========================================================\n",
    "# 9. Saída final\n",
    "# ========================================================\n",
    "# 10. Saída final\n",
    "\n",
    "final_df = merged_df[[\n",
    "    'ANF', 'MUNICIPIO', 'ENDERECO_ID', \n",
    "    'hdi_inf','mean_site', 'hdi_sup', 'hdi_inf_Mun', 'mean_municipio' ,'hdi_sup_Mun',\n",
    "    'FALHAS_ECQ', 'TESTES_ECQ', 'TESTES_ECQ_OK','incECQ', 'rank', 'impacto' \n",
    "    # HDI intervals for sites\n",
    "   # Test counts\n",
    "]].sort_values(\n",
    "    by=['ANF', 'MUNICIPIO', 'rank'],\n",
    "    ascending=[True, True, True]\n",
    ")\n",
    "\n",
    "# # Rename HDI columns for clarity\n",
    "# final_df = final_df.rename(columns={\n",
    "#     'hdi_inf_x': 'hdi_inf',\n",
    "#     'hdi_sup_x': 'hdi_sup'\n",
    "# })\n"
   ]
  },
  {
   "cell_type": "code",
   "execution_count": 163,
   "metadata": {},
   "outputs": [],
   "source": [
    "\n",
    "# Verificação final do ranking\n",
    "test_group = final_df.groupby(['ANF', 'MUNICIPIO']).first()\n",
    "assert (test_group['rank'] == 1).all(), \"Problema no ranking!\"\n",
    "final_df['mes'] = 'out/24'\n",
    "# ========================================================\n",
    "# 10. Exportar resultados\n",
    "# ========================================================\n",
    "final_df.to_excel(r\"_RESULTADO/priorizacao_sites_ECQ_out24.xlsx\", index=False)\n"
   ]
  },
  {
   "cell_type": "code",
   "execution_count": 164,
   "metadata": {},
   "outputs": [
    {
     "data": {
      "text/plain": [
       "<Axes: title={'center': 'mu_municipio_83.0_PATOS'}>"
      ]
     },
     "execution_count": 164,
     "metadata": {},
     "output_type": "execute_result"
    },
    {
     "data": {
      "image/png": "[encoded data removed]",
      "text/plain": [
       "<Figure size 640x480 with 1 Axes>"
      ]
     },
     "metadata": {},
     "output_type": "display_data"
    }
   ],
   "source": [
    "az.plot_posterior(trace, var_names=[\"mu_municipio_83.0_PATOS\"],hdi_prob=0.95)"
   ]
  },
  {
   "cell_type": "markdown",
   "metadata": {},
   "source": [
    "### ANALISE ANF 83 ###\n",
    "------\n"
   ]
  },
  {
   "cell_type": "code",
   "execution_count": 166,
   "metadata": {},
   "outputs": [],
   "source": [
    "import os\n",
    "\n",
    "# Path to the directory containing Excel files\n",
    "result_path = \"_RESULTADO\"\n",
    "\n",
    "# List to store dataframes\n",
    "dfs = []\n",
    "\n",
    "# Iterate through all files in the directory\n",
    "for file in os.listdir(result_path):\n",
    "    if file.endswith(\".xlsx\"):\n",
    "        file_path = os.path.join(result_path, file)\n",
    "        dfs.append(pd.read_excel(file_path))\n",
    "\n",
    "# Concatenate all dataframes\n",
    "concatenated_df = pd.concat(dfs, ignore_index=True)\n",
    "\n",
    "# Display the concatenated dataframe\n",
    "concatenated_df.to_excel('consolidado_83.xlsx')"
   ]
  },
  {
   "cell_type": "markdown",
   "metadata": {},
   "source": []
  }
 ],
 "metadata": {
  "kernelspec": {
   "display_name": "clusters",
   "language": "python",
   "name": "python3"
  },
  "language_info": {
   "codemirror_mode": {
    "name": "ipython",
    "version": 3
   },
   "file_extension": ".py",
   "mimetype": "text/x-python",
   "name": "python",
   "nbconvert_exporter": "python",
   "pygments_lexer": "ipython3",
   "version": "3.10.12"
  }
 },
 "nbformat": 4,
 "nbformat_minor": 2
}
