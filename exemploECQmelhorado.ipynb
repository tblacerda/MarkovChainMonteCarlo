{
 "cells": [
  {
   "cell_type": "code",
   "execution_count": 5,
   "metadata": {},
   "outputs": [],
   "source": [
    "import pandas as pd\n",
    "data = pd.read_excel('ECQ_FEV25.xlsx', sheet_name='Export')"
   ]
  },
  {
   "cell_type": "code",
   "execution_count": 6,
   "metadata": {},
   "outputs": [
    {
     "data": {
      "application/vnd.microsoft.datawrangler.viewer.v0+json": {
       "columns": [
        {
         "name": "index",
         "rawType": "int64",
         "type": "integer"
        },
        {
         "name": "ANF",
         "rawType": "int64",
         "type": "integer"
        },
        {
         "name": "MUNICIPIO",
         "rawType": "object",
         "type": "string"
        },
        {
         "name": "ENDERECO_ID",
         "rawType": "object",
         "type": "string"
        },
        {
         "name": "TESTES_ECQ",
         "rawType": "int64",
         "type": "integer"
        },
        {
         "name": "TESTES_ECQ_OK",
         "rawType": "int64",
         "type": "integer"
        }
       ],
       "conversionMethod": "pd.DataFrame",
       "ref": "32074982-e517-464f-aa0a-57a0697bdc6e",
       "rows": [
        [
         "0",
         "82",
         "ANADIA",
         "ALAAD_0001",
         "31",
         "22"
        ],
        [
         "1",
         "82",
         "ANADIA",
         "ALAAD_0002",
         "44",
         "27"
        ],
        [
         "2",
         "82",
         "AGUA BRANCA",
         "ALABN_0001",
         "17",
         "10"
        ],
        [
         "3",
         "82",
         "AGUA BRANCA",
         "ALABN_0002",
         "52",
         "21"
        ],
        [
         "4",
         "82",
         "ARAPIRACA",
         "ALAIR_0001",
         "110",
         "87"
        ],
        [
         "5",
         "82",
         "ARAPIRACA",
         "ALAIR_0003",
         "45",
         "20"
        ],
        [
         "6",
         "82",
         "ARAPIRACA",
         "ALAIR_0004",
         "108",
         "88"
        ],
        [
         "7",
         "82",
         "ARAPIRACA",
         "ALAIR_0006",
         "86",
         "59"
        ],
        [
         "8",
         "82",
         "ARAPIRACA",
         "ALAIR_0007",
         "57",
         "35"
        ],
        [
         "9",
         "82",
         "ARAPIRACA",
         "ALAIR_0008",
         "32",
         "25"
        ],
        [
         "10",
         "82",
         "ARAPIRACA",
         "ALAIR_0009",
         "78",
         "49"
        ],
        [
         "11",
         "82",
         "ARAPIRACA",
         "ALAIR_0010",
         "22",
         "15"
        ],
        [
         "12",
         "82",
         "ARAPIRACA",
         "ALAIR_0011",
         "111",
         "85"
        ],
        [
         "13",
         "82",
         "ARAPIRACA",
         "ALAIR_0012",
         "207",
         "168"
        ],
        [
         "14",
         "82",
         "ARAPIRACA",
         "ALAIR_0013",
         "61",
         "39"
        ],
        [
         "15",
         "82",
         "ARAPIRACA",
         "ALAIR_0015",
         "84",
         "72"
        ],
        [
         "16",
         "82",
         "ARAPIRACA",
         "ALAIR_0017",
         "32",
         "26"
        ],
        [
         "17",
         "82",
         "ARAPIRACA",
         "ALAIR_0018",
         "21",
         "15"
        ],
        [
         "18",
         "82",
         "ARAPIRACA",
         "ALAIR_0025",
         "30",
         "15"
        ],
        [
         "19",
         "82",
         "ARAPIRACA",
         "ALAIR_0026",
         "53",
         "43"
        ],
        [
         "20",
         "82",
         "ARAPIRACA",
         "ALAIR_0027",
         "55",
         "45"
        ],
        [
         "21",
         "82",
         "ARAPIRACA",
         "ALAIR_0028",
         "109",
         "97"
        ],
        [
         "22",
         "82",
         "ARAPIRACA",
         "ALAIR_0029",
         "83",
         "50"
        ],
        [
         "23",
         "82",
         "ARAPIRACA",
         "ALAIR_0040",
         "26",
         "18"
        ],
        [
         "24",
         "82",
         "ARAPIRACA",
         "ALAIR_0041",
         "1",
         "0"
        ],
        [
         "25",
         "82",
         "ARAPIRACA",
         "ALAIR_0042",
         "55",
         "0"
        ],
        [
         "26",
         "82",
         "ARAPIRACA",
         "ALAIR_0043",
         "191",
         "144"
        ],
        [
         "27",
         "82",
         "ARAPIRACA",
         "ALAIR_0044",
         "47",
         "40"
        ],
        [
         "28",
         "82",
         "ARAPIRACA",
         "ALAIR_0045",
         "26",
         "17"
        ],
        [
         "29",
         "82",
         "ARAPIRACA",
         "ALAIR_0046",
         "55",
         "38"
        ],
        [
         "30",
         "82",
         "ARAPIRACA",
         "ALAIR_0047",
         "48",
         "32"
        ],
        [
         "31",
         "82",
         "ARAPIRACA",
         "ALAIR_0048",
         "16",
         "13"
        ],
        [
         "32",
         "82",
         "ARAPIRACA",
         "ALAIR_0055",
         "84",
         "59"
        ],
        [
         "33",
         "82",
         "ARAPIRACA",
         "ALAIR_0056",
         "67",
         "58"
        ],
        [
         "34",
         "82",
         "ARAPIRACA",
         "ALAIR_0061",
         "58",
         "42"
        ],
        [
         "35",
         "82",
         "ARAPIRACA",
         "ALAIR_0062",
         "123",
         "98"
        ],
        [
         "36",
         "82",
         "ATALAIA",
         "ALATL_0001",
         "10",
         "5"
        ],
        [
         "37",
         "82",
         "BARRA DE SAO MIGUEL",
         "ALBDG_0001",
         "25",
         "15"
        ],
        [
         "38",
         "82",
         "BARRA DE SAO MIGUEL",
         "ALBDG_0002",
         "33",
         "21"
        ],
        [
         "39",
         "82",
         "BARRA DE SAO MIGUEL",
         "ALBDG_0004",
         "27",
         "21"
        ],
        [
         "40",
         "82",
         "BELO MONTE",
         "ALBLN_0001",
         "1",
         "0"
        ],
        [
         "41",
         "82",
         "BELEM",
         "ALBLX_0001",
         "2",
         "2"
        ],
        [
         "42",
         "82",
         "BARRA DE SANTO ANTONIO",
         "ALBNA_0001",
         "38",
         "22"
        ],
        [
         "43",
         "82",
         "BARRA DE SANTO ANTONIO",
         "ALBNA_0002",
         "43",
         "38"
        ],
        [
         "44",
         "82",
         "BOCA DA MATA",
         "ALBOD_0002",
         "115",
         "51"
        ],
        [
         "45",
         "82",
         "BRANQUINHA",
         "ALBQH_0001",
         "5",
         "0"
        ],
        [
         "46",
         "82",
         "BATALHA",
         "ALBTH_0001",
         "33",
         "0"
        ],
        [
         "47",
         "82",
         "CACIMBINHAS",
         "ALCBH_0001",
         "11",
         "0"
        ],
        [
         "48",
         "82",
         "CAMPO GRANDE",
         "ALCGN_0001",
         "10",
         "0"
        ],
        [
         "49",
         "82",
         "CHA PRETA",
         "ALCHK_0001",
         "6",
         "5"
        ]
       ],
       "shape": {
        "columns": 5,
        "rows": 4352
       }
      },
      "text/html": [
       "<div>\n",
       "<style scoped>\n",
       "    .dataframe tbody tr th:only-of-type {\n",
       "        vertical-align: middle;\n",
       "    }\n",
       "\n",
       "    .dataframe tbody tr th {\n",
       "        vertical-align: top;\n",
       "    }\n",
       "\n",
       "    .dataframe thead th {\n",
       "        text-align: right;\n",
       "    }\n",
       "</style>\n",
       "<table border=\"1\" class=\"dataframe\">\n",
       "  <thead>\n",
       "    <tr style=\"text-align: right;\">\n",
       "      <th></th>\n",
       "      <th>ANF</th>\n",
       "      <th>MUNICIPIO</th>\n",
       "      <th>ENDERECO_ID</th>\n",
       "      <th>TESTES_ECQ</th>\n",
       "      <th>TESTES_ECQ_OK</th>\n",
       "    </tr>\n",
       "  </thead>\n",
       "  <tbody>\n",
       "    <tr>\n",
       "      <th>0</th>\n",
       "      <td>82</td>\n",
       "      <td>ANADIA</td>\n",
       "      <td>ALAAD_0001</td>\n",
       "      <td>31</td>\n",
       "      <td>22</td>\n",
       "    </tr>\n",
       "    <tr>\n",
       "      <th>1</th>\n",
       "      <td>82</td>\n",
       "      <td>ANADIA</td>\n",
       "      <td>ALAAD_0002</td>\n",
       "      <td>44</td>\n",
       "      <td>27</td>\n",
       "    </tr>\n",
       "    <tr>\n",
       "      <th>2</th>\n",
       "      <td>82</td>\n",
       "      <td>AGUA BRANCA</td>\n",
       "      <td>ALABN_0001</td>\n",
       "      <td>17</td>\n",
       "      <td>10</td>\n",
       "    </tr>\n",
       "    <tr>\n",
       "      <th>3</th>\n",
       "      <td>82</td>\n",
       "      <td>AGUA BRANCA</td>\n",
       "      <td>ALABN_0002</td>\n",
       "      <td>52</td>\n",
       "      <td>21</td>\n",
       "    </tr>\n",
       "    <tr>\n",
       "      <th>4</th>\n",
       "      <td>82</td>\n",
       "      <td>ARAPIRACA</td>\n",
       "      <td>ALAIR_0001</td>\n",
       "      <td>110</td>\n",
       "      <td>87</td>\n",
       "    </tr>\n",
       "    <tr>\n",
       "      <th>...</th>\n",
       "      <td>...</td>\n",
       "      <td>...</td>\n",
       "      <td>...</td>\n",
       "      <td>...</td>\n",
       "      <td>...</td>\n",
       "    </tr>\n",
       "    <tr>\n",
       "      <th>4347</th>\n",
       "      <td>79</td>\n",
       "      <td>SANTO AMARO DAS BROTAS</td>\n",
       "      <td>SESMB_0001</td>\n",
       "      <td>17</td>\n",
       "      <td>0</td>\n",
       "    </tr>\n",
       "    <tr>\n",
       "      <th>4348</th>\n",
       "      <td>79</td>\n",
       "      <td>SIRIRI</td>\n",
       "      <td>SESYR_0001</td>\n",
       "      <td>2</td>\n",
       "      <td>0</td>\n",
       "    </tr>\n",
       "    <tr>\n",
       "      <th>4349</th>\n",
       "      <td>79</td>\n",
       "      <td>TOBIAS BARRETO</td>\n",
       "      <td>SETBB_0001</td>\n",
       "      <td>31</td>\n",
       "      <td>17</td>\n",
       "    </tr>\n",
       "    <tr>\n",
       "      <th>4350</th>\n",
       "      <td>79</td>\n",
       "      <td>TOBIAS BARRETO</td>\n",
       "      <td>SETBB_0002</td>\n",
       "      <td>20</td>\n",
       "      <td>0</td>\n",
       "    </tr>\n",
       "    <tr>\n",
       "      <th>4351</th>\n",
       "      <td>79</td>\n",
       "      <td>TELHA</td>\n",
       "      <td>SETLH_0002</td>\n",
       "      <td>1</td>\n",
       "      <td>0</td>\n",
       "    </tr>\n",
       "  </tbody>\n",
       "</table>\n",
       "<p>4352 rows × 5 columns</p>\n",
       "</div>"
      ],
      "text/plain": [
       "      ANF               MUNICIPIO ENDERECO_ID  TESTES_ECQ  TESTES_ECQ_OK\n",
       "0      82                  ANADIA  ALAAD_0001          31             22\n",
       "1      82                  ANADIA  ALAAD_0002          44             27\n",
       "2      82             AGUA BRANCA  ALABN_0001          17             10\n",
       "3      82             AGUA BRANCA  ALABN_0002          52             21\n",
       "4      82               ARAPIRACA  ALAIR_0001         110             87\n",
       "...   ...                     ...         ...         ...            ...\n",
       "4347   79  SANTO AMARO DAS BROTAS  SESMB_0001          17              0\n",
       "4348   79                  SIRIRI  SESYR_0001           2              0\n",
       "4349   79          TOBIAS BARRETO  SETBB_0001          31             17\n",
       "4350   79          TOBIAS BARRETO  SETBB_0002          20              0\n",
       "4351   79                   TELHA  SETLH_0002           1              0\n",
       "\n",
       "[4352 rows x 5 columns]"
      ]
     },
     "execution_count": 6,
     "metadata": {},
     "output_type": "execute_result"
    }
   ],
   "source": [
    "data"
   ]
  },
  {
   "cell_type": "code",
   "execution_count": null,
   "metadata": {},
   "outputs": [
    {
     "name": "stderr",
     "output_type": "stream",
     "text": [
      "Initializing NUTS using jitter+adapt_diag...\n",
      "c:\\Users\\F8058552\\AppData\\Local\\anaconda3\\envs\\clusters\\lib\\site-packages\\pytensor\\tensor\\rewriting\\elemwise.py:1023: UserWarning: Loop fusion failed because the resulting node would exceed the kernel argument limit.\n",
      "  warn(\n"
     ]
    }
   ],
   "source": [
    "import pymc as pm\n",
    "import numpy as np\n",
    "import arviz as az\n",
    "\n",
    "\n",
    "# Organizar dados hierarquicamente\n",
    "grouped = data.groupby(['ANF', 'MUNICIPIO'])\n",
    "\n",
    "# Modelo\n",
    "with pm.Model() as modelo_flex:\n",
    "    # Hiperpriors para ANFs (Nível 3)\n",
    "    anfs = data['ANF'].unique()\n",
    "    n_anfs = len(anfs)\n",
    "    \n",
    "    mu_anf = pm.Beta(\"mu_anf\", alpha=2, beta=2, shape=n_anfs)\n",
    "    sigma_anf = pm.HalfNormal(\"sigma_anf\", sigma=0.1, shape=n_anfs)\n",
    "    \n",
    "    # Mapeamento ANF -> índice\n",
    "    anf_id_map = {anf: idx for idx, anf in enumerate(anfs)}\n",
    "    \n",
    "    # Loop por cada grupo (ANF + Município)\n",
    "    theta_sites_list = []\n",
    "    for (anf, municipio), group in grouped:\n",
    "        # Dados do município\n",
    "        n_tests = group['TESTES_ECQ'].values\n",
    "        n_success = group['TESTES_ECQ_OK'].values\n",
    "        idx_anf = anf_id_map[anf]\n",
    "        \n",
    "        # Nível 2: Município (mu_municipio ~ ANF)\n",
    "        mu_municipio = pm.Beta(\n",
    "            f\"mu_municipio_{anf}_{municipio}\", \n",
    "            alpha=mu_anf[idx_anf] * 100,  # phi fixo\n",
    "            beta=(1 - mu_anf[idx_anf]) * 100\n",
    "        )\n",
    "        \n",
    "        # Nível 1: Sites (theta_site ~ município)\n",
    "        theta_site = pm.Beta(\n",
    "            f\"theta_site_{anf}_{municipio}\",\n",
    "            alpha=mu_municipio * 20,\n",
    "            beta=(1 - mu_municipio) * 20,\n",
    "            shape=len(n_tests)\n",
    "        )\n",
    "        \n",
    "        # Likelihood\n",
    "        pm.Binomial(\n",
    "            f\"obs_{anf}_{municipio}\",\n",
    "            n=n_tests,\n",
    "            p=theta_site,\n",
    "            observed=n_success\n",
    "        )\n",
    "    \n",
    "    # Amostragem\n",
    "    trace = pm.sample(1000, tune=500, chains=2, target_accept=0.9)"
   ]
  },
  {
   "cell_type": "code",
   "execution_count": null,
   "metadata": {},
   "outputs": [],
   "source": [
    "az.summary(trace, var_names=[\"mu_anf\", \"mu_municipio\", \"theta_site\"])"
   ]
  },
  {
   "cell_type": "code",
   "execution_count": null,
   "metadata": {},
   "outputs": [],
   "source": [
    "# i want to put the 95% credible interval of the mean of theta back on the data dataframe\n",
    "# Calculate the posterior means and 95% credible intervals for each site\n",
    "theta_posterior = trace.posterior.theta.mean(dim=[\"chain\", \"draw\"]).values\n",
    "theta_hdi = az.hdi(trace.posterior.theta, hdi_prob=0.95).theta.values\n",
    "\n",
    "# Add results to the dataframe\n",
    "data[\"theta_mean\"] = theta_posterior\n",
    "data[\"theta_lower\"] = theta_hdi[:, 0]  \n",
    "data[\"theta_upper\"] = theta_hdi[:, 1]\n",
    "\n",
    "# Calculate raw success rates for comparison\n",
    "data[\"raw_rate\"] = data[\"TESTES_ECQ_OK\"] / data[\"TESTES_ECQ\"]\n",
    "\n",
    "# Display the first few rows with the new columns"
   ]
  },
  {
   "cell_type": "code",
   "execution_count": null,
   "metadata": {},
   "outputs": [],
   "source": [
    "# Comparar ANFs\n",
    "az.plot_forest(trace, var_names=\"mu_anf\", combined=True)\n",
    "\n",
    "# Detalhar um município específico\n",
    "az.plot_forest(trace, var_names=\"mu_municipio_82_ANADIA\", combined=True)\n",
    "\n",
    "# Ver sites de um município\n",
    "az.plot_forest(trace, filter_vars=\"like\", var_names=\"theta_site_82_ANADIA\", combined=True)"
   ]
  }
 ],
 "metadata": {
  "kernelspec": {
   "display_name": "clusters",
   "language": "python",
   "name": "python3"
  },
  "language_info": {
   "codemirror_mode": {
    "name": "ipython",
    "version": 3
   },
   "file_extension": ".py",
   "mimetype": "text/x-python",
   "name": "python",
   "nbconvert_exporter": "python",
   "pygments_lexer": "ipython3",
   "version": "3.10.12"
  }
 },
 "nbformat": 4,
 "nbformat_minor": 2
}
